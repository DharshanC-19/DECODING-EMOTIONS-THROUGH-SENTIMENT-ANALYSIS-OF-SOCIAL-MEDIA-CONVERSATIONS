{
  "nbformat": 4,
  "nbformat_minor": 0,
  "metadata": {
    "colab": {
      "provenance": [],
      "authorship_tag": "ABX9TyPRDe43zP2nIHPxtaICMwWp",
      "include_colab_link": true
    },
    "kernelspec": {
      "name": "python3",
      "display_name": "Python 3"
    },
    "language_info": {
      "name": "python"
    }
  },
  "cells": [
    {
      "cell_type": "markdown",
      "metadata": {
        "id": "view-in-github",
        "colab_type": "text"
      },
      "source": [
        "<a href=\"https://colab.research.google.com/github/DharshanC-19/DECODING-EMOTIONS-THROUGH-SENTIMENT-ANALYSIS-OF-SOCIAL-MEDIA-CONVERSATIONS/blob/main/phase_3.ipynb\" target=\"_parent\"><img src=\"https://colab.research.google.com/assets/colab-badge.svg\" alt=\"Open In Colab\"/></a>"
      ]
    },
    {
      "cell_type": "code",
      "execution_count": 8,
      "metadata": {
        "id": "ETLMG_b3ywsX"
      },
      "outputs": [],
      "source": [
        "from nrcLex\n",
        "import NRCLex\n",
        "import matplotlib.pyplot as plt\n",
        "\n",
        "# Plotting function\n",
        "def plot_emotions(emotion_scores):\n",
        "    emotions = list(emotion_scores.keys())\n",
        "    scores = list(emotion_scores.values())\n",
        "\n",
        "    plt.figure(figsize=(10, 5))\n",
        "    plt.bar(emotions, scores, color='skyblue')\n",
        "    plt.xlabel(\"Emotions\")\n",
        "    plt.ylabel(\"Scores\")\n",
        "    plt.title(\"Emotion Distribution\")\n",
        "    plt.xticks(rotation=45)\n",
        "    plt.grid(axis='y')\n",
        "    plt.tight_layout()\n",
        "    plt.show()\n",
        "\n",
        "# Analyze text and show results\n",
        "def analyze_text(input_text):\n",
        "    emotion = NRCLex(input_text)\n",
        "    print(\"\\nInput:\", input_text)\n",
        "    print(\"Raw Emotion Scores:\", emotion.raw_emotion_scores)\n",
        "\n",
        "    print(\"Top Emotions:\", emotion.top_emotions)\n",
        "    plot_emotions(emotion.raw_emotion_scores)\n",
        "\n",
        "# Runtime loop\n",
        "def run_emotion_analysis():\n",
        "    print(\"=== Emotion Analyzer ===\")\n",
        "    while True:\n",
        "        user_input = input(\"\\nEnter a sentence (or type 'exit' to quit): \")\n",
        "        if user_input.lower() == 'exit':\n",
        "            print(\"Exiting Emotion Analyzer.\")\n",
        "            break\n",
        "        analyze_text(user_input)\n",
        "\n",
        "# Start the program\n",
        "if __name__ == \"__main__\":\n",
        "    run_emotion_analysis()"
      ]
    }
  ]
}